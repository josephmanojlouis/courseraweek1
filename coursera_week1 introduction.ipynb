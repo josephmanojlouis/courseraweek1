{
 "cells": [
  {
   "cell_type": "markdown",
   "metadata": {
    "collapsed": true
   },
   "source": [
    "# Introduction/Business Problem "
   ]
  },
  {
   "cell_type": "markdown",
   "metadata": {},
   "source": [
    "I am residing in Kerala India, many of the second generation job seekers are immigrating to Bangalore\n",
    "and Chennai which is the most important metro cities in South India.\n",
    "\n",
    "Information Technology (IT) boom coupled with Bangalore and Chennai being an\n",
    "educational and jobs hub has turned the cities to a sort of dream destination\n",
    "that most keralite youth chase.\n",
    "\n",
    "There has been a substantial increase in the number of keralites migrating to the said cities in the recent years\n",
    "and that the trend is set to continue in the following years.\n",
    "\n",
    "I like to analyse the neighborhoods in each of  the cities and tries to under stand what is popular in them,\n",
    "what they have to offer and what are the unique features of these cities capare to each other.\n",
    "\n",
    "**Business problem** in the project assums that the people who would be intrested in this project are those who like to choose these cities for education, jobs etc,the decession to choose one over the other depend on popular venues in the neighbohoods in each of metro cities. \n"
   ]
  },
  {
   "cell_type": "markdown",
   "metadata": {},
   "source": [
    "# Data description"
   ]
  },
  {
   "cell_type": "markdown",
   "metadata": {},
   "source": [
    "For any data science project data is of paramount importance.\n",
    "For this project i needed data about neighborhoods in each of these metro cities,\n",
    "the data published by government on postal codes for all India would serve me well\n",
    "for the project i dowloaded the CSV provided under [click here](https://data.gov.in/resources/all-india-pincode-directory-contact-details-along-latitude-and-longitude) \n",
    "\n",
    "Next i used Foursquare API to get the most common venues in both cities"
   ]
  },
  {
   "cell_type": "markdown",
   "metadata": {},
   "source": [
    "# Methodology\n"
   ]
  },
  {
   "cell_type": "markdown",
   "metadata": {},
   "source": [
    "In the assignment i have downloaded the CSV , and read it into the pandas Dataframe.\n",
    "From the above dataframe i have created two dataframe for Chennai City and Bangalore City which i have to analyse,\n",
    "then i cleanup the unnecessary columns in the dataframes which is not relevent or useful for our current analysis.\n",
    "Ialso noticed that the values for longitude and latitude NaN which means that we do not have the relevent data ,i drop\n",
    "these columns as well.\n",
    "\n",
    "The next step is to enhance the dataset with required information i need the longitude and latitude values for the\n",
    "neighborhoods.\n",
    "\n",
    "I use the Nominatim library from geocoders.geopy pacakage to fin the longitude and latitude for each neighborhoods,\n",
    "and would eventuly create a dataset having all necessary columns for our analysis.\n",
    "\n"
   ]
  },
  {
   "cell_type": "markdown",
   "metadata": {},
   "source": [
    "Then i visulize the neighborhoods for both cities on seperate folium maps.\n",
    "For analyzing the neghiborhoods i use Foursquare API to find top venues in the neighborhoods of both cities.\n",
    "i iteratively make Foursquare API calls for each of the cities neighborhoods in our dataset.\n",
    "In my analysis there are 73 and 135 unique venues for Chennai and Bangalore respectively.\n",
    "\n",
    "Then i create  datasets that lists top 5 common venues against each of the neighborhoods in chennai and Bangalore.\n",
    "\n",
    "I use the K-means clustering approch to cluster the neighborhoods,k will be selected as 3,that means we will\n",
    "group the neighborhoods into 3 clusters.Each of the neighborhoods gets a cluster label assigned.\n",
    "then i use the datasets with cluster labels assigned to visulize the clusters in both cities follium map.\n"
   ]
  },
  {
   "cell_type": "markdown",
   "metadata": {},
   "source": [
    "# Result section\n"
   ]
  },
  {
   "cell_type": "markdown",
   "metadata": {},
   "source": [
    "## Chennai City"
   ]
  },
  {
   "cell_type": "markdown",
   "metadata": {},
   "source": [
    "Lets now dig a little deeper into how the neighborhoods are clustered and what is the characteristic of the cluster\n",
    "that is very common across most neighborhoods in Chennai.\n",
    "\n"
   ]
  },
  {
   "cell_type": "markdown",
   "metadata": {},
   "source": [
    "**Cluster 0**  -The neighborhoods belonging to this cluster is popular for having Indian restaurants\n",
    "clothing store ,cricket grounds,multiplex,Gym fitness centers,women store,Train stations,bus stations etc."
   ]
  },
  {
   "cell_type": "markdown",
   "metadata": {},
   "source": [
    "**Cluster 1**  -The neighborhoods belonging to this cluster is popular for having College cafeteria,fields,women store,\n",
    "snack place and coffee shop."
   ]
  },
  {
   "cell_type": "markdown",
   "metadata": {},
   "source": [
    "**Cluster 2**  -The neighborhoods belonging to this cluster is popular for having Burger joint,Departmental store,\n",
    "Women store,Donut shop and Comfort food station."
   ]
  },
  {
   "cell_type": "markdown",
   "metadata": {},
   "source": [
    "# Bangalore City"
   ]
  },
  {
   "cell_type": "markdown",
   "metadata": {},
   "source": [
    "Lets now dig a little deeper into how the neighborhoods are clustered and what is the characteristic of the cluster\n",
    "that is very common across most neighborhoods in Bangalore."
   ]
  },
  {
   "cell_type": "markdown",
   "metadata": {},
   "source": [
    "**Cluster 0**  -The neighborhoods belonging to this cluster is popular for having Indian restaurants\n",
    "Yoga studio,atletics & sports,wine shop,Departmental stores,Caffee,Historic Site,Electronics Store etc."
   ]
  },
  {
   "cell_type": "markdown",
   "metadata": {},
   "source": [
    "**Cluster 1**  -The neighborhoods belonging to this cluster is popular for having  restaurants,Metro stations ,Bus staions\n",
    "Pub,Soccer field,atletics & sports,Departmental stores,Caffee, and lots of features."
   ]
  },
  {
   "cell_type": "markdown",
   "metadata": {},
   "source": [
    "Cluster 1 -The neighborhoods belonging to this cluster is popular for having Scenic Lookout,Yoga Studio,\tElectronics Store,Field,Fast Food Restaurant."
   ]
  },
  {
   "cell_type": "markdown",
   "metadata": {},
   "source": [
    "# Discussion section"
   ]
  },
  {
   "cell_type": "markdown",
   "metadata": {},
   "source": [
    "My intention with this project was to analyze and understand the difference in the type of life in these metros, which can offer decision points for anybody who is considering to settle in either of the metro cities and can get a peek into what type of experience and facilities he will be provided with.\n",
    "\n",
    "Chennai -The neighborhood belong to Cluster 0 has more features than other two clusters.\n",
    "Bangalore-The neighborhood belong to Cluster 1 has more features than other two clusters.\n",
    "\n",
    "With campare to both cities Bangalore city has more features than Chennai."
   ]
  },
  {
   "cell_type": "markdown",
   "metadata": {},
   "source": [
    "# Conclusion"
   ]
  },
  {
   "cell_type": "markdown",
   "metadata": {},
   "source": [
    "Bangalore offers are far too many compared to Chennai. This means that Chennai becomes restrictive in terms of variety and convenience.\n",
    "From the results of above study  I choose Bangalore city for jobs ,education etc,I am sure that all will agree the same as well.\n"
   ]
  },
  {
   "cell_type": "markdown",
   "metadata": {},
   "source": [
    "Thanks\n"
   ]
  },
  {
   "cell_type": "markdown",
   "metadata": {},
   "source": [
    "Joseph Manoj Louis"
   ]
  },
  {
   "cell_type": "code",
   "execution_count": null,
   "metadata": {},
   "outputs": [],
   "source": []
  }
 ],
 "metadata": {
  "kernelspec": {
   "display_name": "Python 3",
   "language": "python",
   "name": "python3"
  },
  "language_info": {
   "codemirror_mode": {
    "name": "ipython",
    "version": 3
   },
   "file_extension": ".py",
   "mimetype": "text/x-python",
   "name": "python",
   "nbconvert_exporter": "python",
   "pygments_lexer": "ipython3",
   "version": "3.7.7"
  }
 },
 "nbformat": 4,
 "nbformat_minor": 1
}
